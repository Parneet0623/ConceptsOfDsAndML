{
 "cells": [
  {
   "cell_type": "markdown",
   "metadata": {},
   "source": [
    "### PyWebIO"
   ]
  },
  {
   "cell_type": "code",
   "execution_count": 1,
   "metadata": {},
   "outputs": [
    {
     "name": "stdout",
     "output_type": "stream",
     "text": [
      "Collecting pywebio\n",
      "  Downloading pywebio-1.3.3.tar.gz (326 kB)\n",
      "Requirement already satisfied: tornado>=5.0 in d:\\anaconda\\lib\\site-packages (from pywebio) (6.0.4)\n",
      "Collecting user-agents\n",
      "  Downloading user_agents-2.2.0-py3-none-any.whl (9.6 kB)\n",
      "Collecting ua-parser>=0.10.0\n",
      "  Downloading ua_parser-0.10.0-py2.py3-none-any.whl (35 kB)\n",
      "Building wheels for collected packages: pywebio\n",
      "  Building wheel for pywebio (setup.py): started\n",
      "  Building wheel for pywebio (setup.py): finished with status 'done'\n",
      "  Created wheel for pywebio: filename=pywebio-1.3.3-py3-none-any.whl size=335378 sha256=a9ce60e4738d405e76741c07cd66af49234fcc377f090a7084c9896259bb764a\n",
      "  Stored in directory: c:\\users\\parneet\\appdata\\local\\pip\\cache\\wheels\\6b\\5d\\37\\1dfb7e5417af272576d4541cea927e0d42cfb994e5eff9ff93\n",
      "Successfully built pywebio\n",
      "Installing collected packages: ua-parser, user-agents, pywebio\n",
      "Successfully installed pywebio-1.3.3 ua-parser-0.10.0 user-agents-2.2.0\n"
     ]
    }
   ],
   "source": [
    "!pip install pywebio"
   ]
  },
  {
   "cell_type": "code",
   "execution_count": 2,
   "metadata": {},
   "outputs": [
    {
     "name": "stdout",
     "output_type": "stream",
     "text": [
      "Enter the nameParneet Jolly\n",
      "Parneet Jolly\n"
     ]
    }
   ],
   "source": [
    "a=input(\"Enter the name\")\n",
    "print(a)"
   ]
  },
  {
   "cell_type": "code",
   "execution_count": 3,
   "metadata": {},
   "outputs": [],
   "source": [
    "from pywebio.input import *\n",
    "from pywebio.output import *"
   ]
  },
  {
   "cell_type": "code",
   "execution_count": 4,
   "metadata": {},
   "outputs": [],
   "source": [
    "name=input(\"Enter the name\",type=\"text\")"
   ]
  },
  {
   "cell_type": "code",
   "execution_count": 5,
   "metadata": {},
   "outputs": [],
   "source": [
    "age=input(\"Enter the age\",type=NUMBER)"
   ]
  },
  {
   "cell_type": "code",
   "execution_count": 6,
   "metadata": {},
   "outputs": [
    {
     "data": {
      "text/plain": [
       "21"
      ]
     },
     "execution_count": 6,
     "metadata": {},
     "output_type": "execute_result"
    }
   ],
   "source": [
    "age"
   ]
  },
  {
   "cell_type": "code",
   "execution_count": 7,
   "metadata": {},
   "outputs": [],
   "source": [
    "# Password input\n",
    "password = input(\"Input password\", type=PASSWORD)\n",
    "\n",
    "# Drop-down selection\n",
    "gift = select('Which gift you want?', ['keyboard', 'ipad'])\n",
    "\n",
    "# Checkbox\n",
    "agree = checkbox(\"User Term\", options=['I agree to terms and conditions'])\n",
    "\n",
    "# Single choice\n",
    "answer = radio(\"Choose one\", options=['A', 'B', 'C', 'D'])\n",
    "\n",
    "# Multi-line text input\n",
    "text = textarea('Text Area', rows=3, placeholder='Some text')\n",
    "\n",
    "# File Upload\n",
    "img = file_upload(\"Select a image:\", accept=\"image/*\")\n"
   ]
  },
  {
   "cell_type": "code",
   "execution_count": 8,
   "metadata": {},
   "outputs": [
    {
     "data": {
      "text/plain": [
       "'ipad'"
      ]
     },
     "execution_count": 8,
     "metadata": {},
     "output_type": "execute_result"
    }
   ],
   "source": [
    "gift"
   ]
  },
  {
   "cell_type": "code",
   "execution_count": 10,
   "metadata": {},
   "outputs": [
    {
     "data": {
      "text/plain": [
       "'Hello everyone. Life is awesome here\\n'"
      ]
     },
     "execution_count": 10,
     "metadata": {},
     "output_type": "execute_result"
    }
   ],
   "source": [
    "text"
   ]
  },
  {
   "cell_type": "code",
   "execution_count": 14,
   "metadata": {},
   "outputs": [],
   "source": [
    "def check_age(p):  # return None when the check passes, otherwise return the error message\n",
    "    if p < 10:\n",
    "        return 'Too young!!'\n",
    "    if p > 60:\n",
    "        return 'Too old!!'\n",
    "\n",
    "age = input(\"How old are you?\", type=NUMBER, validate=check_age)"
   ]
  },
  {
   "cell_type": "code",
   "execution_count": 12,
   "metadata": {},
   "outputs": [
    {
     "data": {
      "text/plain": [
       "21"
      ]
     },
     "execution_count": 12,
     "metadata": {},
     "output_type": "execute_result"
    }
   ],
   "source": [
    "age"
   ]
  },
  {
   "cell_type": "code",
   "execution_count": 15,
   "metadata": {},
   "outputs": [],
   "source": [
    "code = textarea('Code Edit', code={\n",
    "    'mode': \"python\",  # code language\n",
    "    'theme': 'darcula',  # Codemirror theme. Visit https://codemirror.net/demo/theme.html#cobalt to get more themes\n",
    "}, value='import something\\n# Write your python code')"
   ]
  },
  {
   "cell_type": "code",
   "execution_count": 16,
   "metadata": {},
   "outputs": [
    {
     "data": {
      "text/plain": [
       "'\\nprint(\"hello\")'"
      ]
     },
     "execution_count": 16,
     "metadata": {},
     "output_type": "execute_result"
    }
   ],
   "source": [
    "code"
   ]
  },
  {
   "cell_type": "code",
   "execution_count": 17,
   "metadata": {},
   "outputs": [],
   "source": [
    "### Input group\n",
    "data = input_group(\"Basic info\",[\n",
    "  input('Input your name', name='name'),\n",
    "  input('Input your age', name='age', type=NUMBER, validate=check_age)\n",
    "])\n"
   ]
  },
  {
   "cell_type": "code",
   "execution_count": 18,
   "metadata": {},
   "outputs": [
    {
     "data": {
      "text/plain": [
       "{'name': 'parneet  ', 'age': 21}"
      ]
     },
     "execution_count": 18,
     "metadata": {},
     "output_type": "execute_result"
    }
   ],
   "source": [
    "data"
   ]
  },
  {
   "cell_type": "code",
   "execution_count": 19,
   "metadata": {},
   "outputs": [
    {
     "data": {
      "text/plain": [
       "<pywebio.output.use_scope_ at 0x1995d39ffd0>"
      ]
     },
     "execution_count": 19,
     "metadata": {},
     "output_type": "execute_result"
    }
   ],
   "source": [
    "from pywebio.output import *\n",
    "# Text Output\n",
    "put_text(\"Hello world!\")\n",
    "\n",
    "# Table Output\n",
    "put_table([\n",
    "    ['Commodity', 'Price'],\n",
    "    ['Apple', '5.5'],\n",
    "    ['Banana', '7'],\n",
    "])\n",
    "\n",
    "# Markdown Output\n",
    "put_markdown('~~Strikethrough~~')\n",
    "\n",
    "# File Output\n",
    "put_file('hello_word.txt', b'hello word!')\n",
    "\n",
    "# PopUp Output\n",
    "popup('popup title', 'popup text content')"
   ]
  },
  {
   "cell_type": "code",
   "execution_count": 21,
   "metadata": {},
   "outputs": [],
   "source": [
    "with put_collapse('This is title'):\n",
    "    for i in range(4):\n",
    "        put_text(i)\n",
    "\n",
    "    put_table([\n",
    "        ['Commodity', 'Price'],\n",
    "        ['Apple', '5.5'],\n",
    "        ['Banana', '7'],\n",
    "    ])"
   ]
  },
  {
   "cell_type": "code",
   "execution_count": null,
   "metadata": {},
   "outputs": [],
   "source": []
  }
 ],
 "metadata": {
  "kernelspec": {
   "display_name": "Python 3",
   "language": "python",
   "name": "python3"
  },
  "language_info": {
   "codemirror_mode": {
    "name": "ipython",
    "version": 3
   },
   "file_extension": ".py",
   "mimetype": "text/x-python",
   "name": "python",
   "nbconvert_exporter": "python",
   "pygments_lexer": "ipython3",
   "version": "3.8.3"
  }
 },
 "nbformat": 4,
 "nbformat_minor": 5
}
