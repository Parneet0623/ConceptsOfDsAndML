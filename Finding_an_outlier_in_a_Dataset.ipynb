{
  "nbformat": 4,
  "nbformat_minor": 0,
  "metadata": {
    "kernelspec": {
      "display_name": "Python 3",
      "language": "python",
      "name": "python3"
    },
    "language_info": {
      "codemirror_mode": {
        "name": "ipython",
        "version": 3
      },
      "file_extension": ".py",
      "mimetype": "text/x-python",
      "name": "python",
      "nbconvert_exporter": "python",
      "pygments_lexer": "ipython3",
      "version": "3.6.7"
    },
    "colab": {
      "name": "Finding an outlier in a Dataset.ipynb",
      "provenance": []
    }
  },
  "cells": [
    {
      "cell_type": "markdown",
      "metadata": {
        "id": "Ziyy-rmZacS4"
      },
      "source": [
        "### What is an outlier?\n",
        "An outlier is a data point in a data set that is distant from all other observations. A data point that lies outside the overall distribution of the dataset."
      ]
    },
    {
      "cell_type": "code",
      "metadata": {
        "id": "GZ8CtCkNacS-"
      },
      "source": [
        "import numpy as np\n",
        "import matplotlib.pyplot as plt\n",
        "%matplotlib inline"
      ],
      "execution_count": null,
      "outputs": []
    },
    {
      "cell_type": "markdown",
      "metadata": {
        "id": "LgKH9HAZacTA"
      },
      "source": [
        "### What are the criteria to identify an outlier?\n",
        "\n",
        "1. Data point that falls outside of 1.5 times of an interquartile range above the 3rd quartile and below the 1st quartile\n",
        "2. Data point that falls outside of 3 standard deviations. we can use a z score and if the z score falls outside of 2 standard deviation\n",
        "\n",
        "### What is the reason for an outlier to exists in a dataset?\n",
        "\n",
        "1. Variability in the data\n",
        "2. An experimental measurement error\n",
        "\n",
        "### What are the impacts of having outliers in a dataset?\n",
        "\n",
        "1. It causes various problems during our statistical analysis\n",
        "2. It may cause a significant impact on the mean and the standard deviation\n",
        "\n",
        "### Various ways of finding the outlier.\n",
        "1. Using scatter plots\n",
        "2. Box plot\n",
        "3. using z score\n",
        "4. using the IQR interquantile range\n",
        "\n"
      ]
    },
    {
      "cell_type": "code",
      "metadata": {
        "id": "Xjc5xiKOacTB"
      },
      "source": [
        "dataset= [11,10,12,14,12,15,14,13,15,102,12,14,17,19,107, 10,13,12,14,12,108,12,11,14,13,15,10,15,12,10,14,13,15,10]"
      ],
      "execution_count": null,
      "outputs": []
    },
    {
      "cell_type": "markdown",
      "metadata": {
        "id": "kL5BPi4MacTB"
      },
      "source": [
        "## Detecting outlier using Z score\n",
        "\n",
        "### Using Z score\n",
        "\n",
        "Formula for Z score = (Observation — Mean)/Standard Deviation\n",
        "\n",
        "z = (X — μ) / σ"
      ]
    },
    {
      "cell_type": "code",
      "metadata": {
        "id": "a8Pg5lOiacTC"
      },
      "source": [
        "outliers=[]\n",
        "def detect_outliers(data):\n",
        "    \n",
        "    threshold=3\n",
        "    mean = np.mean(data)\n",
        "    std =np.std(data)\n",
        "    \n",
        "    \n",
        "    for i in data:\n",
        "        z_score= (i - mean)/std \n",
        "        if np.abs(z_score) > threshold:\n",
        "            outliers.append(i)\n",
        "    return outliers"
      ],
      "execution_count": null,
      "outputs": []
    },
    {
      "cell_type": "code",
      "metadata": {
        "id": "3bmq-0UzacTD"
      },
      "source": [
        "outlier_pt=detect_outliers(dataset)"
      ],
      "execution_count": null,
      "outputs": []
    },
    {
      "cell_type": "code",
      "metadata": {
        "colab": {
          "base_uri": "https://localhost:8080/"
        },
        "id": "qdi70xUBacTE",
        "outputId": "75015541-c9bb-4464-fd65-a5e859551972"
      },
      "source": [
        "outlier_pt"
      ],
      "execution_count": null,
      "outputs": [
        {
          "output_type": "execute_result",
          "data": {
            "text/plain": [
              "[102, 107, 108]"
            ]
          },
          "metadata": {
            "tags": []
          },
          "execution_count": 5
        }
      ]
    },
    {
      "cell_type": "markdown",
      "metadata": {
        "id": "KaTDnaT_acTG"
      },
      "source": [
        "## InterQuantile Range\n",
        "\n",
        "75%- 25% values in a dataset\n",
        "\n",
        "### Steps\n",
        "#### 1. Arrange the data in increasing order\n",
        "#### 2. Calculate first(q1) and third quartile(q3)\n",
        "#### 3. Find interquartile range (q3-q1)\n",
        "#### 4.Find lower bound q1*1.5\n",
        "#### 5.Find upper bound q3*1.5\n",
        "\n",
        "Anything that lies outside of lower and upper bound is an outlier"
      ]
    },
    {
      "cell_type": "code",
      "metadata": {
        "colab": {
          "base_uri": "https://localhost:8080/"
        },
        "id": "nbVvsWpeacTH",
        "outputId": "ce8d1e1d-9c5f-40bb-e4f0-d8dcccebc8eb"
      },
      "source": [
        "## Perform all the steps of IQR\n",
        "sorted(dataset)"
      ],
      "execution_count": null,
      "outputs": [
        {
          "output_type": "execute_result",
          "data": {
            "text/plain": [
              "[10,\n",
              " 10,\n",
              " 10,\n",
              " 10,\n",
              " 10,\n",
              " 11,\n",
              " 11,\n",
              " 12,\n",
              " 12,\n",
              " 12,\n",
              " 12,\n",
              " 12,\n",
              " 12,\n",
              " 12,\n",
              " 13,\n",
              " 13,\n",
              " 13,\n",
              " 13,\n",
              " 14,\n",
              " 14,\n",
              " 14,\n",
              " 14,\n",
              " 14,\n",
              " 14,\n",
              " 15,\n",
              " 15,\n",
              " 15,\n",
              " 15,\n",
              " 15,\n",
              " 17,\n",
              " 19,\n",
              " 102,\n",
              " 107,\n",
              " 108]"
            ]
          },
          "metadata": {
            "tags": []
          },
          "execution_count": 6
        }
      ]
    },
    {
      "cell_type": "code",
      "metadata": {
        "id": "TbPNHaq2acTI"
      },
      "source": [
        "quantile1, quantile3= np.percentile(dataset,[25,75])"
      ],
      "execution_count": null,
      "outputs": []
    },
    {
      "cell_type": "code",
      "metadata": {
        "colab": {
          "base_uri": "https://localhost:8080/"
        },
        "id": "Kg_oNTHRacTJ",
        "outputId": "5ea99ccd-4cf8-4b17-9920-2e4a2cdc1dc4"
      },
      "source": [
        "print(quantile1,quantile3)"
      ],
      "execution_count": null,
      "outputs": [
        {
          "output_type": "stream",
          "text": [
            "12.0 15.0\n"
          ],
          "name": "stdout"
        }
      ]
    },
    {
      "cell_type": "code",
      "metadata": {
        "colab": {
          "base_uri": "https://localhost:8080/"
        },
        "id": "9xsfZd1RacTJ",
        "outputId": "28544afa-2c3b-4228-fe40-66397af42a61"
      },
      "source": [
        "## Find the IQR\n",
        "\n",
        "iqr_value=quantile3-quantile1\n",
        "print(iqr_value)"
      ],
      "execution_count": null,
      "outputs": [
        {
          "output_type": "stream",
          "text": [
            "3.0\n"
          ],
          "name": "stdout"
        }
      ]
    },
    {
      "cell_type": "code",
      "metadata": {
        "id": "3DaxdprKacTK"
      },
      "source": [
        "## Find the lower bound value and the higher bound value\n",
        "\n",
        "lower_bound_val = quantile1 -(1.5 * iqr) \n",
        "upper_bound_val = quantile3 +(1.5 * iqr) "
      ],
      "execution_count": null,
      "outputs": []
    },
    {
      "cell_type": "code",
      "metadata": {
        "id": "fUET5u4FacTK"
      },
      "source": [
        "print(lower_bound_val,upper_bound_val)"
      ],
      "execution_count": null,
      "outputs": []
    },
    {
      "cell_type": "code",
      "metadata": {
        "colab": {
          "base_uri": "https://localhost:8080/",
          "height": 282
        },
        "id": "mXUcg0OiacTL",
        "outputId": "6cc34440-a9d8-46e0-a277-804098f5d023"
      },
      "source": [
        "import matplotlib.pyplot as plt\n",
        "\n",
        "plt.boxplot(dataset)\n",
        "fig = plt.figure(figsize =(10, 7))\n",
        "plt.show()"
      ],
      "execution_count": null,
      "outputs": [
        {
          "output_type": "display_data",
          "data": {
            "image/png": "[encoded data removed]",
            "text/plain": [
              "<Figure size 432x288 with 1 Axes>"
            ]
          },
          "metadata": {
            "tags": [],
            "needs_background": "light"
          }
        },
        {
          "output_type": "display_data",
          "data": {
            "text/plain": [
              "<Figure size 720x504 with 0 Axes>"
            ]
          },
          "metadata": {
            "tags": []
          }
        }
      ]
    }
  ]
}